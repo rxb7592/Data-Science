{
 "cells": [
  {
   "cell_type": "markdown",
   "id": "0f000e99-6fbb-4308-a5f1-5341519f70f8",
   "metadata": {},
   "source": [
    "# Data Science Tools and Ecosystem"
   ]
  },
  {
   "cell_type": "markdown",
   "id": "392fe784-70fa-48c7-a8c7-cab6d506459b",
   "metadata": {},
   "source": [
    "In this notebook, Data Science tools and Ecosystem are summarized."
   ]
  },
  {
   "cell_type": "markdown",
   "id": "9984dcaf-dce0-4e3d-9e81-9b885942013d",
   "metadata": {},
   "source": [
    "Some of the popular languages Data Scientists use are:\n",
    "1. Python\n",
    "2. R\n",
    "3. Java\n",
    "4. C++"
   ]
  },
  {
   "cell_type": "markdown",
   "id": "d0107ae6-0403-41c1-a082-5e45c82ecb90",
   "metadata": {},
   "source": [
    "Some of the commonly used libraries used by Data Scientists include:\n",
    "1. Pandas\n",
    "2. Seaborn\n",
    "3. Scikit\n",
    "4. Pytorch"
   ]
  },
  {
   "cell_type": "markdown",
   "id": "3cc39fe3-549e-44b4-ae63-3df49fe51bfd",
   "metadata": {},
   "source": [
    "|Data Science Tools|\n",
    "|------------------|\n",
    "Python\n",
    "Jupyter\n",
    "Pandas\n",
    "R\n"
   ]
  },
  {
   "cell_type": "markdown",
   "id": "da518fc7-e749-4147-8dac-cbcc24800e2e",
   "metadata": {},
   "source": [
    "Below are few examples of evaluating arithmetic expression in Python. They are:\n",
    "- \"+\" for addition\n",
    "- \"-\" for subtraction\n",
    "- \"*\" for multiplication\n",
    "- \"/\" for division"
   ]
  },
  {
   "cell_type": "code",
   "execution_count": 12,
   "id": "f04d1825-d458-408b-8402-99e2d0032831",
   "metadata": {},
   "outputs": [
    {
     "name": "stdout",
     "output_type": "stream",
     "text": [
      "This is a simple arithmetic expression to multiply then add integers\n"
     ]
    },
    {
     "data": {
      "text/plain": [
       "17"
      ]
     },
     "execution_count": 12,
     "metadata": {},
     "output_type": "execute_result"
    }
   ],
   "source": [
    "print(\"This is a simple arithmetic expression to multiply then add integers\") \n",
    "(3*4)+5"
   ]
  },
  {
   "cell_type": "code",
   "execution_count": 19,
   "id": "775d5898-b1be-4f66-a3f3-040b056f963a",
   "metadata": {},
   "outputs": [
    {
     "name": "stdout",
     "output_type": "stream",
     "text": [
      "This will convert 200minutes to hours by dividing by 60\n",
      "The answer is 3.3333333333333335 hours\n"
     ]
    }
   ],
   "source": [
    "a=200/60\n",
    "print(\"This will convert 200minutes to hours by dividing by 60\")\n",
    "print(\"The answer is\",a,\"hours\")\n",
    "\n",
    "\n"
   ]
  },
  {
   "cell_type": "markdown",
   "id": "37697e37-e32a-49ff-b39d-7500a18e430f",
   "metadata": {},
   "source": [
    "__Objectives:__\n",
    "- List popular languages for Data Sciecnce\n",
    "- List popular open source tools used in Data Science"
   ]
  },
  {
   "cell_type": "markdown",
   "id": "b4cf074c-4022-4a8f-9aa0-1fbeb17af138",
   "metadata": {},
   "source": [
    "## Author\n",
    "Rojit Basnet"
   ]
  },
  {
   "cell_type": "code",
   "execution_count": null,
   "id": "11bac229-b164-40df-b45f-b44348f0578f",
   "metadata": {},
   "outputs": [],
   "source": []
  }
 ],
 "metadata": {
  "kernelspec": {
   "display_name": "Python 3 (ipykernel)",
   "language": "python",
   "name": "python3"
  },
  "language_info": {
   "codemirror_mode": {
    "name": "ipython",
    "version": 3
   },
   "file_extension": ".py",
   "mimetype": "text/x-python",
   "name": "python",
   "nbconvert_exporter": "python",
   "pygments_lexer": "ipython3",
   "version": "3.11.7"
  }
 },
 "nbformat": 4,
 "nbformat_minor": 5
}
